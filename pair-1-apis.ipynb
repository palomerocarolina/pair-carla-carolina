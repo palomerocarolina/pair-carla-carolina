{
 "cells": [
  {
   "cell_type": "markdown",
   "metadata": {},
   "source": [
    "Extraer datos de generación de energía renovable y no renovable a nivel nacional desde el 1 de enero de 2011 hasta el 31 de diciembre de 2022. La información debe ser recopilada a nivel mensual.\n",
    "Transformar los datos para incluir una columna nueva que identifique si la energía es renovable o no renovable.\n",
    "Almacenar los datos en un DataFrame."
   ]
  },
  {
   "cell_type": "code",
   "execution_count": 1,
   "metadata": {},
   "outputs": [],
   "source": [
    "import pandas as pd\n",
    "import requests\n",
    "import re\n",
    "pd.set_option('display.max_columns', None) # para que no oculte columnas el data frame\n"
   ]
  },
  {
   "cell_type": "code",
   "execution_count": 15,
   "metadata": {},
   "outputs": [
    {
     "name": "stdout",
     "output_type": "stream",
     "text": [
      "La llamada a la API nos ha dado una respuesta de tipo: 200\n",
      "{'data': {'type': 'Renewable and non-renewable generation evolution', 'id': 'gen2', 'attributes': {'title': 'Renewable and non-renewable generation evolution', 'last-update': '2019-06-12T15:32:24.000+02:00', 'description': None}, 'meta': {'cache-control': {'cache': 'HIT', 'expireAt': '2024-07-24T09:12:51'}}}, 'included': [{'type': 'Renewable', 'id': '10299', 'groupId': None, 'attributes': {'title': 'Renewable', 'description': 'Renewable energy: includes hydro, hydro, wind, solar photovoltaic, solar thermal, other renewables and renewable waste.', 'color': '#6fb114', 'type': 'Renovable', 'magnitude': None, 'composite': False, 'last-update': '2019-06-12T15:32:24.000+02:00', 'values': [{'value': 9918268.536000015, 'percentage': 0.38279076359991804, 'datetime': '2011-01-01T00:00:00.000+01:00'}, {'value': 7991499.852500001, 'percentage': 0.3453972866624658, 'datetime': '2011-02-01T00:00:00.000+01:00'}, {'value': 9606067.69700001, 'percentage': 0.3831349187176546, 'datetime': '2011-03-01T00:00:00.000+01:00'}, {'value': 8123455.767, 'percentage': 0.37464532760697794, 'datetime': '2011-04-01T00:00:00.000+02:00'}, {'value': 7251163.861500001, 'percentage': 0.3315832492156599, 'datetime': '2011-05-01T00:00:00.000+02:00'}, {'value': 6452804.794000002, 'percentage': 0.2862238498781947, 'datetime': '2011-06-01T00:00:00.000+02:00'}, {'value': 6498576.444000007, 'percentage': 0.2712500834748905, 'datetime': '2011-07-01T00:00:00.000+02:00'}, {'value': 5727787.989999995, 'percentage': 0.24520399433013995, 'datetime': '2011-08-01T00:00:00.000+02:00'}, {'value': 4933369.656000008, 'percentage': 0.21408577261430492, 'datetime': '2011-09-01T00:00:00.000+02:00'}, {'value': 5622637.376499994, 'percentage': 0.2528206630112774, 'datetime': '2011-10-01T00:00:00.000+02:00'}, {'value': 6825133.5855, 'percentage': 0.3015785344449874, 'datetime': '2011-11-01T00:00:00.000+01:00'}, {'value': 7716287.29000001, 'percentage': 0.322776375318213, 'datetime': '2011-12-01T00:00:00.000+01:00'}]}}, {'type': 'Non renewable', 'id': '10298', 'groupId': None, 'attributes': {'title': 'Non renewable', 'description': None, 'color': '#666666', 'type': 'No renovable', 'magnitude': None, 'composite': False, 'last-update': '2019-06-12T15:32:24.000+02:00', 'values': [{'value': 15992149.057999998, 'percentage': 0.6172092364000821, 'datetime': '2011-01-01T00:00:00.000+01:00'}, {'value': 15145624.152499996, 'percentage': 0.6546027133375343, 'datetime': '2011-02-01T00:00:00.000+01:00'}, {'value': 15466216.837000022, 'percentage': 0.6168650812823454, 'datetime': '2011-03-01T00:00:00.000+01:00'}, {'value': 13559600.629000006, 'percentage': 0.6253546723930221, 'datetime': '2011-04-01T00:00:00.000+02:00'}, {'value': 14617141.846499996, 'percentage': 0.6684167507843402, 'datetime': '2011-05-01T00:00:00.000+02:00'}, {'value': 16091804.248000007, 'percentage': 0.7137761501218052, 'datetime': '2011-06-01T00:00:00.000+02:00'}, {'value': 17459301.691000007, 'percentage': 0.7287499165251096, 'datetime': '2011-07-01T00:00:00.000+02:00'}, {'value': 17631488.866999995, 'percentage': 0.75479600566986, 'datetime': '2011-08-01T00:00:00.000+02:00'}, {'value': 18110523.433, 'percentage': 0.7859142273856952, 'datetime': '2011-09-01T00:00:00.000+02:00'}, {'value': 16616990.150499998, 'percentage': 0.7471793369887226, 'datetime': '2011-10-01T00:00:00.000+02:00'}, {'value': 15806230.407500008, 'percentage': 0.6984214655550126, 'datetime': '2011-11-01T00:00:00.000+01:00'}, {'value': 16189698.029999992, 'percentage': 0.6772236246817871, 'datetime': '2011-12-01T00:00:00.000+01:00'}]}}]}\n"
     ]
    }
   ],
   "source": [
    "# para llamar a la API\n",
    "# evolucion-renovable-no-renovable       \n",
    "# GET /{lang}/datos/{category}/{widget}?[query]\n",
    "# es/datos/generacion/evolucion-renovable-no-renovable?[query]   \n",
    "# https://apidatos.ree.es/es/datos/generacion/estructura-generacion\n",
    "# \"https://apidatos.ree.es/en/datos/generacion/evolucion-renovable-no-renovable?start_date=2011-01-01T00:00&end_date=2022-12-31T23:59&time_trunc=month\"   \n",
    "#params = {\"lang\":\"es\", \"category\":\"generacion\", \"widget\":\"evolucion-renovable-no-renovable\"}\n",
    "#params = {\"start_date\":\"2011-01-0100:00\", \"end_date\":\"2011-11-3123:59\"}\n",
    "#llamada = requests.get(\"https://apidatos.ree.es/es/datos/generacion/estructura-generacion\", params=params)\n",
    "\n",
    "llamada = requests.get(\"https://apidatos.ree.es/en/datos/generacion/evolucion-renovable-no-renovable?start_date=2011-01-01T00:00&end_date=2011-12-31T23:59&time_trunc=month\")     \n",
    "print(f\"La llamada a la API nos ha dado una respuesta de tipo: {llamada.status_code}\") \n",
    "\n",
    "respuesta = llamada.json() \n",
    "print(respuesta)"
   ]
  },
  {
   "cell_type": "code",
   "execution_count": 23,
   "metadata": {},
   "outputs": [
    {
     "name": "stdout",
     "output_type": "stream",
     "text": [
      "<class 'dict'>\n",
      "2\n",
      "dict_keys(['data', 'included'])\n",
      "{'type': 'Renewable and non-renewable generation evolution', 'id': 'gen2', 'attributes': {'title': 'Renewable and non-renewable generation evolution', 'last-update': '2019-06-12T15:32:24.000+02:00', 'description': None}, 'meta': {'cache-control': {'cache': 'HIT', 'expireAt': '2024-07-24T09:12:51'}}}\n",
      "[{'type': 'Renewable', 'id': '10299', 'groupId': None, 'attributes': {'title': 'Renewable', 'description': 'Renewable energy: includes hydro, hydro, wind, solar photovoltaic, solar thermal, other renewables and renewable waste.', 'color': '#6fb114', 'type': 'Renovable', 'magnitude': None, 'composite': False, 'last-update': '2019-06-12T15:32:24.000+02:00', 'values': [{'value': 9918268.536000015, 'percentage': 0.38279076359991804, 'datetime': '2011-01-01T00:00:00.000+01:00'}, {'value': 7991499.852500001, 'percentage': 0.3453972866624658, 'datetime': '2011-02-01T00:00:00.000+01:00'}, {'value': 9606067.69700001, 'percentage': 0.3831349187176546, 'datetime': '2011-03-01T00:00:00.000+01:00'}, {'value': 8123455.767, 'percentage': 0.37464532760697794, 'datetime': '2011-04-01T00:00:00.000+02:00'}, {'value': 7251163.861500001, 'percentage': 0.3315832492156599, 'datetime': '2011-05-01T00:00:00.000+02:00'}, {'value': 6452804.794000002, 'percentage': 0.2862238498781947, 'datetime': '2011-06-01T00:00:00.000+02:00'}, {'value': 6498576.444000007, 'percentage': 0.2712500834748905, 'datetime': '2011-07-01T00:00:00.000+02:00'}, {'value': 5727787.989999995, 'percentage': 0.24520399433013995, 'datetime': '2011-08-01T00:00:00.000+02:00'}, {'value': 4933369.656000008, 'percentage': 0.21408577261430492, 'datetime': '2011-09-01T00:00:00.000+02:00'}, {'value': 5622637.376499994, 'percentage': 0.2528206630112774, 'datetime': '2011-10-01T00:00:00.000+02:00'}, {'value': 6825133.5855, 'percentage': 0.3015785344449874, 'datetime': '2011-11-01T00:00:00.000+01:00'}, {'value': 7716287.29000001, 'percentage': 0.322776375318213, 'datetime': '2011-12-01T00:00:00.000+01:00'}]}}, {'type': 'Non renewable', 'id': '10298', 'groupId': None, 'attributes': {'title': 'Non renewable', 'description': None, 'color': '#666666', 'type': 'No renovable', 'magnitude': None, 'composite': False, 'last-update': '2019-06-12T15:32:24.000+02:00', 'values': [{'value': 15992149.057999998, 'percentage': 0.6172092364000821, 'datetime': '2011-01-01T00:00:00.000+01:00'}, {'value': 15145624.152499996, 'percentage': 0.6546027133375343, 'datetime': '2011-02-01T00:00:00.000+01:00'}, {'value': 15466216.837000022, 'percentage': 0.6168650812823454, 'datetime': '2011-03-01T00:00:00.000+01:00'}, {'value': 13559600.629000006, 'percentage': 0.6253546723930221, 'datetime': '2011-04-01T00:00:00.000+02:00'}, {'value': 14617141.846499996, 'percentage': 0.6684167507843402, 'datetime': '2011-05-01T00:00:00.000+02:00'}, {'value': 16091804.248000007, 'percentage': 0.7137761501218052, 'datetime': '2011-06-01T00:00:00.000+02:00'}, {'value': 17459301.691000007, 'percentage': 0.7287499165251096, 'datetime': '2011-07-01T00:00:00.000+02:00'}, {'value': 17631488.866999995, 'percentage': 0.75479600566986, 'datetime': '2011-08-01T00:00:00.000+02:00'}, {'value': 18110523.433, 'percentage': 0.7859142273856952, 'datetime': '2011-09-01T00:00:00.000+02:00'}, {'value': 16616990.150499998, 'percentage': 0.7471793369887226, 'datetime': '2011-10-01T00:00:00.000+02:00'}, {'value': 15806230.407500008, 'percentage': 0.6984214655550126, 'datetime': '2011-11-01T00:00:00.000+01:00'}, {'value': 16189698.029999992, 'percentage': 0.6772236246817871, 'datetime': '2011-12-01T00:00:00.000+01:00'}]}}]\n"
     ]
    }
   ],
   "source": [
    "print (type(respuesta))\n",
    "print (len(respuesta))\n",
    "print (respuesta.keys())\n",
    "print(respuesta[\"data\"])\n",
    "print(respuesta[\"included\"])"
   ]
  }
 ],
 "metadata": {
  "kernelspec": {
   "display_name": "base",
   "language": "python",
   "name": "python3"
  },
  "language_info": {
   "codemirror_mode": {
    "name": "ipython",
    "version": 3
   },
   "file_extension": ".py",
   "mimetype": "text/x-python",
   "name": "python",
   "nbconvert_exporter": "python",
   "pygments_lexer": "ipython3",
   "version": "3.11.7"
  }
 },
 "nbformat": 4,
 "nbformat_minor": 2
}
