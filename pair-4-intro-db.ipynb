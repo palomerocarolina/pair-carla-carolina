{
 "cells": [
  {
   "cell_type": "markdown",
   "metadata": {},
   "source": [
    "| id_alumna | nombre | apellidos | dirección 1 | dirección 2|\n",
    "| ----------- | ----------- |----------- |----------- |----------- |\n",
    "| 1 | Cristina | Marin | Cuenca | España\n",
    "| 2 | Marta | López |  Toledo | España |\n",
    "| 3 | Rocío | Pérez | Nantes| Francia |\n",
    "| 4 | Elena | Rodríguez |Monterrey| México |"
   ]
  },
  {
   "cell_type": "markdown",
   "metadata": {},
   "source": [
    "| id_asigantura| asignatura |\n",
    "| ----------- | ----------- |\n",
    "| 101 | Base de datos | \n",
    "| 102 | Extracción |  \n",
    "| 103 | Limpieza| \n"
   ]
  },
  {
   "cell_type": "markdown",
   "metadata": {},
   "source": [
    "| id_alumna | id_asignatura | nota |\n",
    "|----------- |----------- |-----------|\n",
    "| 1 | 101 | 8 |\n",
    "| 1 | 102 | 9 |\n",
    "| 1 | 103 | 8 |\n",
    "| 2 | 101 | 7 |\n",
    "| 2 | 103 | 9 |\n",
    "| 3 | 101 | 10|\n",
    "| 3 | 102 | 7 |\n",
    "| 4 | 101 | 10 |\n",
    "| 4 | 102 | 9 |\n",
    "| 4 | 103 | 7 |"
   ]
  }
 ],
 "metadata": {
  "kernelspec": {
   "display_name": "base",
   "language": "python",
   "name": "python3"
  },
  "language_info": {
   "name": "python",
   "version": "3.11.7"
  }
 },
 "nbformat": 4,
 "nbformat_minor": 2
}
